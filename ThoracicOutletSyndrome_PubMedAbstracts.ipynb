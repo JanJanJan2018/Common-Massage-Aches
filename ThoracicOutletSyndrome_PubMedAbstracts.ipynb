{
 "cells": [
  {
   "cell_type": "markdown",
   "metadata": {},
   "source": [
    "## Thoracic Outlet Syndrome abstracts pulled from PubMed and Google Scholar\n",
    "\n",
    "Thoracic Outlet Syndrome (TOS) is explored via natural language processing (NLP) to determine if the source is a google scholar abstract/article available or a PubMed article/abstract.\n"
   ]
  },
  {
   "cell_type": "code",
   "execution_count": 1,
   "metadata": {},
   "outputs": [],
   "source": [
    "%matplotlib inline \n",
    "import pandas as pd \n",
    "import matplotlib.pyplot as plt \n",
    "from textblob import TextBlob \n",
    "import numpy as np \n",
    "from sklearn.feature_extraction.text import CountVectorizer \n",
    "from sklearn.naive_bayes import MultinomialNB \n",
    "from sklearn.metrics import classification_report, f1_score, accuracy_score, confusion_matrix \n",
    " \n",
    "np.random.seed(507) \n",
    " \n"
   ]
  },
  {
   "cell_type": "code",
   "execution_count": 4,
   "metadata": {},
   "outputs": [],
   "source": [
    "reviews = pd.read_csv('ThoracicOutletSyndrome.csv', na_values='NaN',encoding = 'unicode_escape') \n",
    "#the encoding needed for python3 handling nonASCII chars\n"
   ]
  },
  {
   "cell_type": "code",
   "execution_count": 5,
   "metadata": {},
   "outputs": [
    {
     "data": {
      "text/html": [
       "<div>\n",
       "<style scoped>\n",
       "    .dataframe tbody tr th:only-of-type {\n",
       "        vertical-align: middle;\n",
       "    }\n",
       "\n",
       "    .dataframe tbody tr th {\n",
       "        vertical-align: top;\n",
       "    }\n",
       "\n",
       "    .dataframe thead th {\n",
       "        text-align: right;\n",
       "    }\n",
       "</style>\n",
       "<table border=\"1\" class=\"dataframe\">\n",
       "  <thead>\n",
       "    <tr style=\"text-align: right;\">\n",
       "      <th></th>\n",
       "      <th>article</th>\n",
       "      <th>source</th>\n",
       "    </tr>\n",
       "  </thead>\n",
       "  <tbody>\n",
       "    <tr>\n",
       "      <td>0</td>\n",
       "      <td>Journal of Vascular Surgery\\nVolume 46, Issue ...</td>\n",
       "      <td>GoogleScholar</td>\n",
       "    </tr>\n",
       "    <tr>\n",
       "      <td>1</td>\n",
       "      <td>Article\\nJuly 1966\\nThoracic Outlet Syndrome\\...</td>\n",
       "      <td>GoogleScholar</td>\n",
       "    </tr>\n",
       "    <tr>\n",
       "      <td>2</td>\n",
       "      <td>\\nThoracic Outlet Syndrome\\nJason H. Huang, M....</td>\n",
       "      <td>GoogleScholar</td>\n",
       "    </tr>\n",
       "    <tr>\n",
       "      <td>3</td>\n",
       "      <td>Thoracic outlet compression syndrome.\\nAtasoy ...</td>\n",
       "      <td>GoogleScholar</td>\n",
       "    </tr>\n",
       "    <tr>\n",
       "      <td>4</td>\n",
       "      <td>The American Journal of Surgery\\nVolume 132, I...</td>\n",
       "      <td>GoogleScholar</td>\n",
       "    </tr>\n",
       "    <tr>\n",
       "      <td>5</td>\n",
       "      <td>Management of the Thoracic-Outlet Syndrome\\nLi...</td>\n",
       "      <td>GoogleScholar</td>\n",
       "    </tr>\n",
       "    <tr>\n",
       "      <td>6</td>\n",
       "      <td>THORACIC OUTLET SYNDROMES\\nAuthor links open o...</td>\n",
       "      <td>GoogleScholar</td>\n",
       "    </tr>\n",
       "    <tr>\n",
       "      <td>7</td>\n",
       "      <td>Thoracic Outlet Syndrome: A Review\\n\\nSanders,...</td>\n",
       "      <td>GoogleScholar</td>\n",
       "    </tr>\n",
       "    <tr>\n",
       "      <td>8</td>\n",
       "      <td>Article\\nMarch 1990\\nThe Thoracic Outlet Synd...</td>\n",
       "      <td>GoogleScholar</td>\n",
       "    </tr>\n",
       "    <tr>\n",
       "      <td>9</td>\n",
       "      <td>The Journal of Hand Surgery\\nVolume 20, Issue ...</td>\n",
       "      <td>GoogleScholar</td>\n",
       "    </tr>\n",
       "    <tr>\n",
       "      <td>10</td>\n",
       "      <td>Current management of thoracic outlet syndrome...</td>\n",
       "      <td>GoogleScholar</td>\n",
       "    </tr>\n",
       "    <tr>\n",
       "      <td>11</td>\n",
       "      <td>\\n\\n    Published: April 2003\\n\\nThoracic outl...</td>\n",
       "      <td>GoogleScholar</td>\n",
       "    </tr>\n",
       "    <tr>\n",
       "      <td>12</td>\n",
       "      <td>Management of thoracic outlet syndrome.\\nMcGou...</td>\n",
       "      <td>GoogleScholar</td>\n",
       "    </tr>\n",
       "    <tr>\n",
       "      <td>13</td>\n",
       "      <td>Thoracic outlet syndrome reconsidered.\\nPoole ...</td>\n",
       "      <td>GoogleScholar</td>\n",
       "    </tr>\n",
       "    <tr>\n",
       "      <td>14</td>\n",
       "      <td>Journal of Vascular Surgery\\nVolume 49, Issue ...</td>\n",
       "      <td>GoogleScholar</td>\n",
       "    </tr>\n",
       "    <tr>\n",
       "      <td>15</td>\n",
       "      <td>The American Journal of Surgery\\nVolume 141, I...</td>\n",
       "      <td>GoogleScholar</td>\n",
       "    </tr>\n",
       "    <tr>\n",
       "      <td>16</td>\n",
       "      <td>Archives of Physical Medicine and Rehabilitati...</td>\n",
       "      <td>GoogleScholar</td>\n",
       "    </tr>\n",
       "    <tr>\n",
       "      <td>17</td>\n",
       "      <td>Management of thoracic outlet syndrome.\\nW A D...</td>\n",
       "      <td>GoogleScholar</td>\n",
       "    </tr>\n",
       "    <tr>\n",
       "      <td>18</td>\n",
       "      <td>\\nTreatment for thoracic outlet syndrome\\n\\nCo...</td>\n",
       "      <td>GoogleScholar</td>\n",
       "    </tr>\n",
       "    <tr>\n",
       "      <td>19</td>\n",
       "      <td>Journal of Hand Therapy\\nVolume 7, Issue 2, Ap...</td>\n",
       "      <td>GoogleScholar</td>\n",
       "    </tr>\n",
       "    <tr>\n",
       "      <td>20</td>\n",
       "      <td>Thoracic Outlet Syndrome\\n\\nLeffert, Robert D....</td>\n",
       "      <td>GoogleScholar</td>\n",
       "    </tr>\n",
       "    <tr>\n",
       "      <td>21</td>\n",
       "      <td>Rehabilitation of patients with thoracic outle...</td>\n",
       "      <td>GoogleScholar</td>\n",
       "    </tr>\n",
       "    <tr>\n",
       "      <td>22</td>\n",
       "      <td>Robotic First Rib Resection for Thoracic Outle...</td>\n",
       "      <td>PubMed</td>\n",
       "    </tr>\n",
       "    <tr>\n",
       "      <td>23</td>\n",
       "      <td>Thirty years experience of transaxillary resec...</td>\n",
       "      <td>PubMed</td>\n",
       "    </tr>\n",
       "    <tr>\n",
       "      <td>24</td>\n",
       "      <td>Sonographically guided botulinum toxin injecti...</td>\n",
       "      <td>PubMed</td>\n",
       "    </tr>\n",
       "    <tr>\n",
       "      <td>25</td>\n",
       "      <td>A pilot study of forearm microvascular impairm...</td>\n",
       "      <td>PubMed</td>\n",
       "    </tr>\n",
       "    <tr>\n",
       "      <td>26</td>\n",
       "      <td>Spasticity-induced Pectoralis minor syndrome: ...</td>\n",
       "      <td>PubMed</td>\n",
       "    </tr>\n",
       "    <tr>\n",
       "      <td>27</td>\n",
       "      <td>Venous thoracic outlet syndrome secondary to a...</td>\n",
       "      <td>PubMed</td>\n",
       "    </tr>\n",
       "    <tr>\n",
       "      <td>28</td>\n",
       "      <td>False-negative upper extremity ultrasound in t...</td>\n",
       "      <td>PubMed</td>\n",
       "    </tr>\n",
       "    <tr>\n",
       "      <td>29</td>\n",
       "      <td>Thoracic Outlet Syndrome: Diagnostic Accuracy ...</td>\n",
       "      <td>PubMed</td>\n",
       "    </tr>\n",
       "    <tr>\n",
       "      <td>30</td>\n",
       "      <td>The Safety of Blood Flow Restriction Training ...</td>\n",
       "      <td>PubMed</td>\n",
       "    </tr>\n",
       "    <tr>\n",
       "      <td>31</td>\n",
       "      <td>Early and Late Outcomes of Surgery for Neuroge...</td>\n",
       "      <td>PubMed</td>\n",
       "    </tr>\n",
       "    <tr>\n",
       "      <td>32</td>\n",
       "      <td>A Novel Approach for Imaging of Thoracic Outle...</td>\n",
       "      <td>PubMed</td>\n",
       "    </tr>\n",
       "    <tr>\n",
       "      <td>33</td>\n",
       "      <td>Familial predisposition of thoracic outlet syn...</td>\n",
       "      <td>PubMed</td>\n",
       "    </tr>\n",
       "    <tr>\n",
       "      <td>34</td>\n",
       "      <td>CT and MR imaging of the upper extremity vascu...</td>\n",
       "      <td>PubMed</td>\n",
       "    </tr>\n",
       "    <tr>\n",
       "      <td>35</td>\n",
       "      <td>Long-Term Quality of Life Comparison between S...</td>\n",
       "      <td>PubMed</td>\n",
       "    </tr>\n",
       "    <tr>\n",
       "      <td>36</td>\n",
       "      <td>Validity and internal consistency of the thora...</td>\n",
       "      <td>PubMed</td>\n",
       "    </tr>\n",
       "    <tr>\n",
       "      <td>37</td>\n",
       "      <td>Evolving strategies for the management of veno...</td>\n",
       "      <td>PubMed</td>\n",
       "    </tr>\n",
       "    <tr>\n",
       "      <td>38</td>\n",
       "      <td>Two cases of brachial plexus compression secon...</td>\n",
       "      <td>PubMed</td>\n",
       "    </tr>\n",
       "    <tr>\n",
       "      <td>39</td>\n",
       "      <td>Evaluation of the efficacy of ropivacaine inje...</td>\n",
       "      <td>PubMed</td>\n",
       "    </tr>\n",
       "    <tr>\n",
       "      <td>40</td>\n",
       "      <td>Clinical, electrodiagnostic and imaging featur...</td>\n",
       "      <td>PubMed</td>\n",
       "    </tr>\n",
       "    <tr>\n",
       "      <td>41</td>\n",
       "      <td>Anatomical entrapment of the dorsal scapular a...</td>\n",
       "      <td>PubMed</td>\n",
       "    </tr>\n",
       "    <tr>\n",
       "      <td>42</td>\n",
       "      <td>Anatomy, Head and Neck, Inter-scalene Triangle...</td>\n",
       "      <td>PubMed</td>\n",
       "    </tr>\n",
       "    <tr>\n",
       "      <td>43</td>\n",
       "      <td>Transposition of external jugular to proximal ...</td>\n",
       "      <td>PubMed</td>\n",
       "    </tr>\n",
       "    <tr>\n",
       "      <td>44</td>\n",
       "      <td>The effects of head posture on nerve conductio...</td>\n",
       "      <td>PubMed</td>\n",
       "    </tr>\n",
       "    <tr>\n",
       "      <td>45</td>\n",
       "      <td>Percutaneous Costoclavicular Bypass for Thorac...</td>\n",
       "      <td>PubMed</td>\n",
       "    </tr>\n",
       "    <tr>\n",
       "      <td>46</td>\n",
       "      <td>NaN</td>\n",
       "      <td>NaN</td>\n",
       "    </tr>\n",
       "    <tr>\n",
       "      <td>47</td>\n",
       "      <td>NaN</td>\n",
       "      <td>NaN</td>\n",
       "    </tr>\n",
       "    <tr>\n",
       "      <td>48</td>\n",
       "      <td>NaN</td>\n",
       "      <td>NaN</td>\n",
       "    </tr>\n",
       "    <tr>\n",
       "      <td>49</td>\n",
       "      <td>NaN</td>\n",
       "      <td>NaN</td>\n",
       "    </tr>\n",
       "    <tr>\n",
       "      <td>50</td>\n",
       "      <td>NaN</td>\n",
       "      <td>NaN</td>\n",
       "    </tr>\n",
       "    <tr>\n",
       "      <td>51</td>\n",
       "      <td>NaN</td>\n",
       "      <td>NaN</td>\n",
       "    </tr>\n",
       "    <tr>\n",
       "      <td>52</td>\n",
       "      <td>NaN</td>\n",
       "      <td>NaN</td>\n",
       "    </tr>\n",
       "    <tr>\n",
       "      <td>53</td>\n",
       "      <td>NaN</td>\n",
       "      <td>NaN</td>\n",
       "    </tr>\n",
       "    <tr>\n",
       "      <td>54</td>\n",
       "      <td>NaN</td>\n",
       "      <td>NaN</td>\n",
       "    </tr>\n",
       "    <tr>\n",
       "      <td>55</td>\n",
       "      <td>NaN</td>\n",
       "      <td>NaN</td>\n",
       "    </tr>\n",
       "    <tr>\n",
       "      <td>56</td>\n",
       "      <td>NaN</td>\n",
       "      <td>NaN</td>\n",
       "    </tr>\n",
       "    <tr>\n",
       "      <td>57</td>\n",
       "      <td>NaN</td>\n",
       "      <td>NaN</td>\n",
       "    </tr>\n",
       "    <tr>\n",
       "      <td>58</td>\n",
       "      <td>NaN</td>\n",
       "      <td>NaN</td>\n",
       "    </tr>\n",
       "  </tbody>\n",
       "</table>\n",
       "</div>"
      ],
      "text/plain": [
       "                                              article         source\n",
       "0   Journal of Vascular Surgery\\nVolume 46, Issue ...  GoogleScholar\n",
       "1    Article\\nJuly 1966\\nThoracic Outlet Syndrome\\...  GoogleScholar\n",
       "2   \\nThoracic Outlet Syndrome\\nJason H. Huang, M....  GoogleScholar\n",
       "3   Thoracic outlet compression syndrome.\\nAtasoy ...  GoogleScholar\n",
       "4   The American Journal of Surgery\\nVolume 132, I...  GoogleScholar\n",
       "5   Management of the Thoracic-Outlet Syndrome\\nLi...  GoogleScholar\n",
       "6   THORACIC OUTLET SYNDROMES\\nAuthor links open o...  GoogleScholar\n",
       "7   Thoracic Outlet Syndrome: A Review\\n\\nSanders,...  GoogleScholar\n",
       "8    Article\\nMarch 1990\\nThe Thoracic Outlet Synd...  GoogleScholar\n",
       "9   The Journal of Hand Surgery\\nVolume 20, Issue ...  GoogleScholar\n",
       "10  Current management of thoracic outlet syndrome...  GoogleScholar\n",
       "11  \\n\\n    Published: April 2003\\n\\nThoracic outl...  GoogleScholar\n",
       "12  Management of thoracic outlet syndrome.\\nMcGou...  GoogleScholar\n",
       "13  Thoracic outlet syndrome reconsidered.\\nPoole ...  GoogleScholar\n",
       "14  Journal of Vascular Surgery\\nVolume 49, Issue ...  GoogleScholar\n",
       "15  The American Journal of Surgery\\nVolume 141, I...  GoogleScholar\n",
       "16  Archives of Physical Medicine and Rehabilitati...  GoogleScholar\n",
       "17  Management of thoracic outlet syndrome.\\nW A D...  GoogleScholar\n",
       "18  \\nTreatment for thoracic outlet syndrome\\n\\nCo...  GoogleScholar\n",
       "19  Journal of Hand Therapy\\nVolume 7, Issue 2, Ap...  GoogleScholar\n",
       "20  Thoracic Outlet Syndrome\\n\\nLeffert, Robert D....  GoogleScholar\n",
       "21  Rehabilitation of patients with thoracic outle...  GoogleScholar\n",
       "22  Robotic First Rib Resection for Thoracic Outle...         PubMed\n",
       "23  Thirty years experience of transaxillary resec...         PubMed\n",
       "24  Sonographically guided botulinum toxin injecti...         PubMed\n",
       "25  A pilot study of forearm microvascular impairm...         PubMed\n",
       "26  Spasticity-induced Pectoralis minor syndrome: ...         PubMed\n",
       "27  Venous thoracic outlet syndrome secondary to a...         PubMed\n",
       "28  False-negative upper extremity ultrasound in t...         PubMed\n",
       "29  Thoracic Outlet Syndrome: Diagnostic Accuracy ...         PubMed\n",
       "30  The Safety of Blood Flow Restriction Training ...         PubMed\n",
       "31  Early and Late Outcomes of Surgery for Neuroge...         PubMed\n",
       "32  A Novel Approach for Imaging of Thoracic Outle...         PubMed\n",
       "33  Familial predisposition of thoracic outlet syn...         PubMed\n",
       "34  CT and MR imaging of the upper extremity vascu...         PubMed\n",
       "35  Long-Term Quality of Life Comparison between S...         PubMed\n",
       "36  Validity and internal consistency of the thora...         PubMed\n",
       "37  Evolving strategies for the management of veno...         PubMed\n",
       "38  Two cases of brachial plexus compression secon...         PubMed\n",
       "39  Evaluation of the efficacy of ropivacaine inje...         PubMed\n",
       "40  Clinical, electrodiagnostic and imaging featur...         PubMed\n",
       "41  Anatomical entrapment of the dorsal scapular a...         PubMed\n",
       "42  Anatomy, Head and Neck, Inter-scalene Triangle...         PubMed\n",
       "43  Transposition of external jugular to proximal ...         PubMed\n",
       "44  The effects of head posture on nerve conductio...         PubMed\n",
       "45  Percutaneous Costoclavicular Bypass for Thorac...         PubMed\n",
       "46                                                NaN            NaN\n",
       "47                                                NaN            NaN\n",
       "48                                                NaN            NaN\n",
       "49                                                NaN            NaN\n",
       "50                                                NaN            NaN\n",
       "51                                                NaN            NaN\n",
       "52                                                NaN            NaN\n",
       "53                                                NaN            NaN\n",
       "54                                                NaN            NaN\n",
       "55                                                NaN            NaN\n",
       "56                                                NaN            NaN\n",
       "57                                                NaN            NaN\n",
       "58                                                NaN            NaN"
      ]
     },
     "execution_count": 5,
     "metadata": {},
     "output_type": "execute_result"
    }
   ],
   "source": [
    "reviews\n"
   ]
  },
  {
   "cell_type": "code",
   "execution_count": 6,
   "metadata": {},
   "outputs": [],
   "source": [
    "reviews = reviews.dropna()"
   ]
  },
  {
   "cell_type": "code",
   "execution_count": 7,
   "metadata": {},
   "outputs": [
    {
     "data": {
      "text/plain": [
       "(46, 2)"
      ]
     },
     "execution_count": 7,
     "metadata": {},
     "output_type": "execute_result"
    }
   ],
   "source": [
    "reviews.shape"
   ]
  },
  {
   "cell_type": "code",
   "execution_count": 8,
   "metadata": {},
   "outputs": [],
   "source": [
    "reviews.columns = ['abstract','source']"
   ]
  },
  {
   "cell_type": "code",
   "execution_count": 9,
   "metadata": {},
   "outputs": [
    {
     "name": "stdout",
     "output_type": "stream",
     "text": [
      "                                             abstract         source\n",
      "13  Thoracic outlet syndrome reconsidered.\\nPoole ...  GoogleScholar\n",
      "38  Two cases of brachial plexus compression secon...         PubMed\n",
      "3   Thoracic outlet compression syndrome.\\nAtasoy ...  GoogleScholar\n",
      "32  A Novel Approach for Imaging of Thoracic Outle...         PubMed\n",
      "30  The Safety of Blood Flow Restriction Training ...         PubMed\n",
      "17  Management of thoracic outlet syndrome.\\nW A D...  GoogleScholar\n",
      "45  Percutaneous Costoclavicular Bypass for Thorac...         PubMed\n",
      "44  The effects of head posture on nerve conductio...         PubMed\n",
      "22  Robotic First Rib Resection for Thoracic Outle...         PubMed\n",
      "18  \\nTreatment for thoracic outlet syndrome\\n\\nCo...  GoogleScholar\n",
      "14  Journal of Vascular Surgery\\nVolume 49, Issue ...  GoogleScholar\n",
      "19  Journal of Hand Therapy\\nVolume 7, Issue 2, Ap...  GoogleScholar\n",
      "40  Clinical, electrodiagnostic and imaging featur...         PubMed\n",
      "5   Management of the Thoracic-Outlet Syndrome\\nLi...  GoogleScholar\n",
      "28  False-negative upper extremity ultrasound in t...         PubMed\n",
      "31  Early and Late Outcomes of Surgery for Neuroge...         PubMed\n",
      "2   \\nThoracic Outlet Syndrome\\nJason H. Huang, M....  GoogleScholar\n",
      "24  Sonographically guided botulinum toxin injecti...         PubMed\n",
      "37  Evolving strategies for the management of veno...         PubMed\n",
      "27  Venous thoracic outlet syndrome secondary to a...         PubMed\n",
      "29  Thoracic Outlet Syndrome: Diagnostic Accuracy ...         PubMed\n",
      "34  CT and MR imaging of the upper extremity vascu...         PubMed\n",
      "10  Current management of thoracic outlet syndrome...  GoogleScholar\n",
      "33  Familial predisposition of thoracic outlet syn...         PubMed\n",
      "7   Thoracic Outlet Syndrome: A Review\\n\\nSanders,...  GoogleScholar\n",
      "0   Journal of Vascular Surgery\\nVolume 46, Issue ...  GoogleScholar\n",
      "1    Article\\nJuly 1966\\nThoracic Outlet Syndrome\\...  GoogleScholar\n",
      "12  Management of thoracic outlet syndrome.\\nMcGou...  GoogleScholar\n",
      "11  \\n\\n    Published: April 2003\\n\\nThoracic outl...  GoogleScholar\n",
      "36  Validity and internal consistency of the thora...         PubMed\n",
      "20  Thoracic Outlet Syndrome\\n\\nLeffert, Robert D....  GoogleScholar\n",
      "23  Thirty years experience of transaxillary resec...         PubMed\n",
      "9   The Journal of Hand Surgery\\nVolume 20, Issue ...  GoogleScholar\n",
      "21  Rehabilitation of patients with thoracic outle...  GoogleScholar\n",
      "42  Anatomy, Head and Neck, Inter-scalene Triangle...         PubMed\n",
      "41  Anatomical entrapment of the dorsal scapular a...         PubMed\n",
      "16  Archives of Physical Medicine and Rehabilitati...  GoogleScholar\n",
      "35  Long-Term Quality of Life Comparison between S...         PubMed\n",
      "6   THORACIC OUTLET SYNDROMES\\nAuthor links open o...  GoogleScholar\n",
      "25  A pilot study of forearm microvascular impairm...         PubMed\n",
      "43  Transposition of external jugular to proximal ...         PubMed\n",
      "26  Spasticity-induced Pectoralis minor syndrome: ...         PubMed\n",
      "15  The American Journal of Surgery\\nVolume 141, I...  GoogleScholar\n",
      "8    Article\\nMarch 1990\\nThe Thoracic Outlet Synd...  GoogleScholar\n",
      "39  Evaluation of the efficacy of ropivacaine inje...         PubMed\n",
      "4   The American Journal of Surgery\\nVolume 132, I...  GoogleScholar\n"
     ]
    }
   ],
   "source": [
    "reviews = reviews.reindex(np.random.permutation(reviews.index))\n",
    "\n",
    "print(reviews)"
   ]
  },
  {
   "cell_type": "code",
   "execution_count": 11,
   "metadata": {},
   "outputs": [
    {
     "name": "stdout",
     "output_type": "stream",
     "text": [
      "                                             abstract         source  length\n",
      "13  Thoracic outlet syndrome reconsidered.\\nPoole ...  GoogleScholar    2433\n",
      "38  Two cases of brachial plexus compression secon...         PubMed    1421\n",
      "3   Thoracic outlet compression syndrome.\\nAtasoy ...  GoogleScholar     805\n",
      "32  A Novel Approach for Imaging of Thoracic Outle...         PubMed    2711\n",
      "30  The Safety of Blood Flow Restriction Training ...         PubMed    2996\n"
     ]
    }
   ],
   "source": [
    "\n",
    "\n",
    "reviews['length'] = reviews['abstract'].map(lambda text: len(text))\n",
    "print(reviews.head())\n",
    "\n"
   ]
  },
  {
   "cell_type": "code",
   "execution_count": 12,
   "metadata": {},
   "outputs": [
    {
     "data": {
      "text/plain": [
       "<matplotlib.axes._subplots.AxesSubplot at 0x2345a4b52e8>"
      ]
     },
     "execution_count": 12,
     "metadata": {},
     "output_type": "execute_result"
    },
    {
     "data": {
      "image/png": "[encoded data removed]",
      "text/plain": [
       "<Figure size 432x288 with 1 Axes>"
      ]
     },
     "metadata": {
      "needs_background": "light"
     },
     "output_type": "display_data"
    }
   ],
   "source": [
    "reviews.length.plot(bins=20, kind='hist') "
   ]
  },
  {
   "cell_type": "code",
   "execution_count": 13,
   "metadata": {},
   "outputs": [
    {
     "data": {
      "text/plain": [
       "count       46.000000\n",
       "mean      2534.760870\n",
       "std       2589.622969\n",
       "min        805.000000\n",
       "25%       1451.250000\n",
       "50%       2057.000000\n",
       "75%       2716.250000\n",
       "max      18129.000000\n",
       "Name: length, dtype: float64"
      ]
     },
     "execution_count": 13,
     "metadata": {},
     "output_type": "execute_result"
    }
   ],
   "source": [
    "reviews.length.describe()"
   ]
  },
  {
   "cell_type": "code",
   "execution_count": 15,
   "metadata": {},
   "outputs": [
    {
     "name": "stdout",
     "output_type": "stream",
     "text": [
      "[18, 14, 0, 42]\n",
      "['GoogleScholar', 'GoogleScholar', 'GoogleScholar', 'PubMed']\n"
     ]
    }
   ],
   "source": [
    "print(list(reviews.abstract[reviews.length > 3700].index)) \n",
    "print(list(reviews.source[reviews.length > 3700]))\n"
   ]
  },
  {
   "cell_type": "code",
   "execution_count": 16,
   "metadata": {},
   "outputs": [
    {
     "name": "stdout",
     "output_type": "stream",
     "text": [
      "Wall time: 219 ms\n"
     ]
    },
    {
     "data": {
      "text/plain": [
       "array([<matplotlib.axes._subplots.AxesSubplot object at 0x000002345A5A2BE0>,\n",
       "       <matplotlib.axes._subplots.AxesSubplot object at 0x000002345A5E4240>],\n",
       "      dtype=object)"
      ]
     },
     "execution_count": 16,
     "metadata": {},
     "output_type": "execute_result"
    },
    {
     "data": {
      "image/png": "[encoded data removed]",
      "text/plain": [
       "<Figure size 432x288 with 2 Axes>"
      ]
     },
     "metadata": {
      "needs_background": "light"
     },
     "output_type": "display_data"
    }
   ],
   "source": [
    "%%time\n",
    "reviews.hist(column='length', by='source', bins=5)"
   ]
  },
  {
   "cell_type": "code",
   "execution_count": 17,
   "metadata": {},
   "outputs": [],
   "source": [
    "def split_into_tokens(review):\n",
    "    \n",
    "    #review = unicode(review, 'iso-8859-1')# in python 3 the default of str() previously python2 as unicode() is utf-8\n",
    "    return TextBlob(review).words"
   ]
  },
  {
   "cell_type": "code",
   "execution_count": 18,
   "metadata": {},
   "outputs": [
    {
     "data": {
      "text/plain": [
       "13    [Thoracic, outlet, syndrome, reconsidered, Poo...\n",
       "38    [Two, cases, of, brachial, plexus, compression...\n",
       "3     [Thoracic, outlet, compression, syndrome, Atas...\n",
       "32    [A, Novel, Approach, for, Imaging, of, Thoraci...\n",
       "30    [The, Safety, of, Blood, Flow, Restriction, Tr...\n",
       "Name: abstract, dtype: object"
      ]
     },
     "execution_count": 18,
     "metadata": {},
     "output_type": "execute_result"
    }
   ],
   "source": [
    "\n",
    "\n",
    "reviews.abstract.head().apply(split_into_tokens)\n",
    "\n"
   ]
  },
  {
   "cell_type": "code",
   "execution_count": 19,
   "metadata": {},
   "outputs": [
    {
     "data": {
      "text/plain": [
       "[('hello', 'JJ'),\n",
       " ('world', 'NN'),\n",
       " ('how', 'WRB'),\n",
       " ('is', 'VBZ'),\n",
       " ('it', 'PRP'),\n",
       " ('going', 'VBG')]"
      ]
     },
     "execution_count": 19,
     "metadata": {},
     "output_type": "execute_result"
    }
   ],
   "source": [
    "TextBlob(\"hello world, how is it going?\").tags"
   ]
  },
  {
   "cell_type": "code",
   "execution_count": 20,
   "metadata": {},
   "outputs": [
    {
     "name": "stderr",
     "output_type": "stream",
     "text": [
      "[nltk_data] Downloading package stopwords to\n",
      "[nltk_data]     C:\\Users\\m\\AppData\\Roaming\\nltk_data...\n",
      "[nltk_data]   Package stopwords is already up-to-date!\n"
     ]
    },
    {
     "data": {
      "text/plain": [
       "True"
      ]
     },
     "execution_count": 20,
     "metadata": {},
     "output_type": "execute_result"
    }
   ],
   "source": [
    "\n",
    "\n",
    "import nltk\n",
    "nltk.download('stopwords')\n",
    "\n"
   ]
  },
  {
   "cell_type": "code",
   "execution_count": 21,
   "metadata": {},
   "outputs": [],
   "source": [
    "from nltk.corpus import stopwords\n",
    "\n",
    "stop = stopwords.words('english')\n",
    "stop = stop + [u'a',u'b',u'c',u'd',u'e',u'f',u'g',u'h',u'i',u'j',u'k',u'l',u'm',u'n',u'o',u'p',u'q',u'r',u's',u't',u'v',u'w',u'x',u'y',u'z']"
   ]
  },
  {
   "cell_type": "code",
   "execution_count": 22,
   "metadata": {},
   "outputs": [
    {
     "data": {
      "text/plain": [
       "13    [thoracic, outlet, syndrome, reconsidered, poo...\n",
       "38    [two, case, brachial, plexus, compression, sec...\n",
       "3     [thoracic, outlet, compression, syndrome, atas...\n",
       "32    [novel, approach, imaging, thoracic, outlet, s...\n",
       "30    [safety, blood, flow, restriction, training, t...\n",
       "Name: abstract, dtype: object"
      ]
     },
     "execution_count": 22,
     "metadata": {},
     "output_type": "execute_result"
    }
   ],
   "source": [
    "def split_into_lemmas(review):\n",
    "    #review = unicode(review, 'iso-8859-1')\n",
    "    review = review.lower()\n",
    "    #review = unicode(review, 'utf8').lower()\n",
    "    #review = str(review).lower()\n",
    "    words = TextBlob(review).words\n",
    "    # for each word, take its \"base form\" = lemma \n",
    "    return [word.lemma for word in words if word not in stop]\n",
    "\n",
    "reviews.abstract.head().apply(split_into_lemmas)"
   ]
  },
  {
   "cell_type": "code",
   "execution_count": 23,
   "metadata": {},
   "outputs": [
    {
     "name": "stdout",
     "output_type": "stream",
     "text": [
      "2974\n",
      "Wall time: 734 ms\n"
     ]
    }
   ],
   "source": [
    "%%time\n",
    "# bag of words on the comments\n",
    "bow_transformer = CountVectorizer(analyzer=split_into_lemmas).fit(reviews['abstract'])\n",
    "print(len(bow_transformer.vocabulary_))\n"
   ]
  },
  {
   "cell_type": "code",
   "execution_count": 24,
   "metadata": {},
   "outputs": [
    {
     "name": "stdout",
     "output_type": "stream",
     "text": [
      "The American Journal of Surgery\n",
      "Volume 132, Issue 6, December 1976, Pages 771-778\n",
      "The American Journal of Surgery\n",
      "Scientific paper\n",
      "Congenital anomalies associated with thoracic outlet syndrome: Anatomy, symptoms, diagnosis, and treatment?\n",
      "Author links open overlay panelDavid B.RoosMD\n",
      "1\n",
      "https://doi.org/10.1016/0002-9610(76)90456-6\n",
      "Get rights and content\n",
      "Abstract\n",
      "\n",
      "Personal evaluation of more than 2,300 patients for possible thoracic outlet syndrome (TOS) and knowledge gained from 980 TOS operations in 766 patients (operative incidence of 33.7 per cent of the patients examined) have shown that most patients with TOS have anomalous fibrous muscular bands near the brachial plexus that predispose them to neurologic irritation or compression involving the plexus. Anatomic analysis during operations for TOS, plus cadaver dissections, have disclosed seven distinct types of fibromuscular bands in addition to the less frequent bony anomalies long associated with neurovascular compression. One third of fifty-eight cadaver thoracic outlets dissected showed at least one of the seven muscular anomalies recognized at operations.\n",
      "\n",
      "These anomalies can be accurately related to the patients' symptoms, which are neurologic complaints in 99 per cent of the patients examined who ultimately have the diagnosis of TOS established. Neurologic symptoms are clearly explained by the anomalous bands irritating or compressing the brachial plexus and rarely have any effect on the subclavian vessels. These studies, and others before, have shown no correlation with impairment of circulation or positional radial pulse changes in almost all patients with true TOS. Also, arteriograms and nerve conduction studies generally have failed to be of value in establishing the accurate diagnosis. Reasons for these conclusions are explained, and the most reliable tests are described.\n",
      "\n",
      "The most effective means of relief of severe symptoms of TOS is to alter the mechanical irritation or compression of the brachial plexus by completely resecting the first thoracic rib and all anomalous fibromuscular tissue around the plexus and subclavian vessels. If patients are thoroughly evaluated with appropriate tests and highly selected for surgical treatment, gratifying relief will result in more than 90 per cent of patients, if the correct operation is performed with meticulous technic.\n",
      "\n",
      "    Previous article in issue\n"
     ]
    }
   ],
   "source": [
    "review4 = reviews['abstract'][4]\n",
    "print(review4)"
   ]
  },
  {
   "cell_type": "code",
   "execution_count": 25,
   "metadata": {},
   "outputs": [],
   "source": [
    "bow4 = bow_transformer.transform([review4])\n"
   ]
  },
  {
   "cell_type": "code",
   "execution_count": 26,
   "metadata": {},
   "outputs": [
    {
     "name": "stdout",
     "output_type": "stream",
     "text": [
      "sparse matrix shape: (46, 2974)\n",
      "number of non-zeros: 6755\n",
      "sparsity: 4.94%\n",
      "Wall time: 734 ms\n"
     ]
    }
   ],
   "source": [
    "%%time\n",
    "reviews_bow = bow_transformer.transform(reviews['abstract'])\n",
    "print('sparse matrix shape:', reviews_bow.shape)\n",
    "print('number of non-zeros:', reviews_bow.nnz)\n",
    "print('sparsity: %.2f%%' % (100.0 * reviews_bow.nnz / (reviews_bow.shape[0] * reviews_bow.shape[1])))"
   ]
  },
  {
   "cell_type": "code",
   "execution_count": 27,
   "metadata": {},
   "outputs": [
    {
     "name": "stdout",
     "output_type": "stream",
     "text": [
      "(34, 2974)\n",
      "(12, 2974)\n"
     ]
    }
   ],
   "source": [
    "\n",
    "#reviews was permutated earlier, so taking the order is random\n",
    "# Split/splice into training ~ 80% and testing ~ 20%\n",
    "reviews_bow_train = reviews_bow[:34]\n",
    "reviews_bow_test = reviews_bow[34:]\n",
    "reviews_sentiment_train = reviews['source'][:34]\n",
    "reviews_sentiment_test = reviews['source'][34:]\n",
    "\n",
    "print(reviews_bow_train.shape)\n",
    "print(reviews_bow_test.shape)\n",
    "\n"
   ]
  },
  {
   "cell_type": "code",
   "execution_count": 28,
   "metadata": {},
   "outputs": [
    {
     "data": {
      "text/plain": [
       "array(['PubMed', 'GoogleScholar'], dtype=object)"
      ]
     },
     "execution_count": 28,
     "metadata": {},
     "output_type": "execute_result"
    }
   ],
   "source": [
    "reviews_sentiment_test.unique()"
   ]
  },
  {
   "cell_type": "code",
   "execution_count": 29,
   "metadata": {},
   "outputs": [
    {
     "name": "stdout",
     "output_type": "stream",
     "text": [
      "Wall time: 0 ns\n"
     ]
    }
   ],
   "source": [
    "\n",
    "\n",
    "%time \n",
    "review_sentiment = MultinomialNB().fit(reviews_bow_train, reviews_sentiment_train)\n",
    "\n"
   ]
  },
  {
   "cell_type": "code",
   "execution_count": 30,
   "metadata": {},
   "outputs": [
    {
     "name": "stdout",
     "output_type": "stream",
     "text": [
      "predicted: GoogleScholar\n",
      "expected: GoogleScholar\n"
     ]
    }
   ],
   "source": [
    "\n",
    "print('predicted:', review_sentiment.predict(bow4)[0])\n",
    "print('expected:', reviews.source[4])\n",
    "\n"
   ]
  },
  {
   "cell_type": "code",
   "execution_count": 31,
   "metadata": {},
   "outputs": [
    {
     "name": "stdout",
     "output_type": "stream",
     "text": [
      "['GoogleScholar' 'GoogleScholar' 'GoogleScholar' 'PubMed' 'GoogleScholar'\n",
      " 'PubMed' 'PubMed' 'PubMed' 'GoogleScholar' 'GoogleScholar' 'PubMed'\n",
      " 'GoogleScholar']\n"
     ]
    }
   ],
   "source": [
    "\n",
    "\n",
    "predictions = review_sentiment.predict(reviews_bow_test)\n",
    "print(predictions)\n",
    "\n"
   ]
  },
  {
   "cell_type": "code",
   "execution_count": 32,
   "metadata": {},
   "outputs": [
    {
     "name": "stdout",
     "output_type": "stream",
     "text": [
      "accuracy 0.8333333333333334\n",
      "confusion matrix\n",
      " [[5 0]\n",
      " [2 5]]\n",
      "(row=expected, col=predicted)\n",
      "Results alphabetized as GEO, PLOS, then PubMed for source results predicted and expected\n"
     ]
    }
   ],
   "source": [
    "print('accuracy', accuracy_score(reviews_sentiment_test, predictions))\n",
    "print('confusion matrix\\n', confusion_matrix(reviews_sentiment_test, predictions))\n",
    "print('(row=expected, col=predicted)')\n",
    "print('Results alphabetized as GEO, PLOS, then PubMed for source results predicted and expected')"
   ]
  },
  {
   "cell_type": "code",
   "execution_count": 33,
   "metadata": {},
   "outputs": [
    {
     "name": "stdout",
     "output_type": "stream",
     "text": [
      "               precision    recall  f1-score   support\n",
      "\n",
      "GoogleScholar       0.71      1.00      0.83         5\n",
      "       PubMed       1.00      0.71      0.83         7\n",
      "\n",
      "     accuracy                           0.83        12\n",
      "    macro avg       0.86      0.86      0.83        12\n",
      " weighted avg       0.88      0.83      0.83        12\n",
      "\n"
     ]
    }
   ],
   "source": [
    "print(classification_report(reviews_sentiment_test, predictions))\n",
    "#The F1 score can be interpreted as a weighted average of the precision and recall, \n",
    "#where an F1 score reaches its best value at 1 and worst score at 0."
   ]
  },
  {
   "cell_type": "code",
   "execution_count": 34,
   "metadata": {},
   "outputs": [],
   "source": [
    "def predict_review(new_review): \n",
    "    new_sample = bow_transformer.transform([new_review])\n",
    "    print(new_review, np.around(review_sentiment.predict_proba(new_sample), decimals=2), \n",
    "          '\\n')"
   ]
  },
  {
   "cell_type": "markdown",
   "metadata": {},
   "source": [
    "### Values returned alphabatized for Type: no, yes are values returned in the array order"
   ]
  },
  {
   "cell_type": "code",
   "execution_count": 35,
   "metadata": {},
   "outputs": [
    {
     "name": "stdout",
     "output_type": "stream",
     "text": [
      "Results alphabetized as GoogleScholar then PubMed:\n",
      "\n",
      "in vivo. cell culture. growth. [[0.32 0.68]] \n",
      "\n",
      "radiating pain. [[0.93 0.07]] \n",
      "\n",
      "quality of life. [[0.82 0.18]] \n",
      "\n",
      "I don't like spaghetti. [[0.48 0.52]] \n",
      "\n",
      "samples derived. university research. [[0. 1.]] \n",
      "\n"
     ]
    }
   ],
   "source": [
    "print('Results alphabetized as GoogleScholar then PubMed:\\n')\n",
    "predict_review('in vivo. cell culture. growth.')\n",
    "\n",
    "predict_review('radiating pain.')\n",
    "\n",
    "predict_review('quality of life.')\n",
    "predict_review('I don\\'t like spaghetti.')\n",
    "\n",
    "predict_review('samples derived. university research.')"
   ]
  },
  {
   "cell_type": "code",
   "execution_count": 36,
   "metadata": {},
   "outputs": [
    {
     "data": {
      "text/html": [
       "<div>\n",
       "<style scoped>\n",
       "    .dataframe tbody tr th:only-of-type {\n",
       "        vertical-align: middle;\n",
       "    }\n",
       "\n",
       "    .dataframe tbody tr th {\n",
       "        vertical-align: top;\n",
       "    }\n",
       "\n",
       "    .dataframe thead tr th {\n",
       "        text-align: left;\n",
       "    }\n",
       "\n",
       "    .dataframe thead tr:last-of-type th {\n",
       "        text-align: right;\n",
       "    }\n",
       "</style>\n",
       "<table border=\"1\" class=\"dataframe\">\n",
       "  <thead>\n",
       "    <tr>\n",
       "      <th></th>\n",
       "      <th colspan=\"8\" halign=\"left\">length</th>\n",
       "    </tr>\n",
       "    <tr>\n",
       "      <th></th>\n",
       "      <th>count</th>\n",
       "      <th>mean</th>\n",
       "      <th>std</th>\n",
       "      <th>min</th>\n",
       "      <th>25%</th>\n",
       "      <th>50%</th>\n",
       "      <th>75%</th>\n",
       "      <th>max</th>\n",
       "    </tr>\n",
       "    <tr>\n",
       "      <th>source</th>\n",
       "      <th></th>\n",
       "      <th></th>\n",
       "      <th></th>\n",
       "      <th></th>\n",
       "      <th></th>\n",
       "      <th></th>\n",
       "      <th></th>\n",
       "      <th></th>\n",
       "    </tr>\n",
       "  </thead>\n",
       "  <tbody>\n",
       "    <tr>\n",
       "      <td>GoogleScholar</td>\n",
       "      <td>22.0</td>\n",
       "      <td>2586.863636</td>\n",
       "      <td>3602.447016</td>\n",
       "      <td>805.0</td>\n",
       "      <td>1219.25</td>\n",
       "      <td>1501.0</td>\n",
       "      <td>2414.25</td>\n",
       "      <td>18129.0</td>\n",
       "    </tr>\n",
       "    <tr>\n",
       "      <td>PubMed</td>\n",
       "      <td>24.0</td>\n",
       "      <td>2487.000000</td>\n",
       "      <td>1125.437809</td>\n",
       "      <td>1223.0</td>\n",
       "      <td>1676.75</td>\n",
       "      <td>2429.0</td>\n",
       "      <td>2810.75</td>\n",
       "      <td>6813.0</td>\n",
       "    </tr>\n",
       "  </tbody>\n",
       "</table>\n",
       "</div>"
      ],
      "text/plain": [
       "              length                                                     \\\n",
       "               count         mean          std     min      25%     50%   \n",
       "source                                                                    \n",
       "GoogleScholar   22.0  2586.863636  3602.447016   805.0  1219.25  1501.0   \n",
       "PubMed          24.0  2487.000000  1125.437809  1223.0  1676.75  2429.0   \n",
       "\n",
       "                                 \n",
       "                   75%      max  \n",
       "source                           \n",
       "GoogleScholar  2414.25  18129.0  \n",
       "PubMed         2810.75   6813.0  "
      ]
     },
     "execution_count": 36,
     "metadata": {},
     "output_type": "execute_result"
    }
   ],
   "source": [
    "reviews.groupby('source').describe()"
   ]
  },
  {
   "cell_type": "markdown",
   "metadata": {},
   "source": [
    "If you get back the probabilities, it is because there weren't a bag of words generated or improperly set to the type\n",
    "instead of the comments or reviews."
   ]
  },
  {
   "cell_type": "markdown",
   "metadata": {},
   "source": [
    "#### Evidence inspired articles/abstracts are mostly sourced to from PubMed instead of Google Scholar, but the symptoms are most likely sourced to Google Scholar articles for this subject"
   ]
  },
  {
   "cell_type": "code",
   "execution_count": null,
   "metadata": {},
   "outputs": [],
   "source": []
  }
 ],
 "metadata": {
  "kernelspec": {
   "display_name": "Python 3",
   "language": "python",
   "name": "python3"
  },
  "language_info": {
   "codemirror_mode": {
    "name": "ipython",
    "version": 3
   },
   "file_extension": ".py",
   "mimetype": "text/x-python",
   "name": "python",
   "nbconvert_exporter": "python",
   "pygments_lexer": "ipython3",
   "version": "3.6.9"
  }
 },
 "nbformat": 4,
 "nbformat_minor": 2
}
